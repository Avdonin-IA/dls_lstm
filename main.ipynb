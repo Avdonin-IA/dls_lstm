{
 "cells": [
  {
   "cell_type": "markdown",
   "metadata": {},
   "source": [
    "## Задание\n",
    "1. В качестве исходного датасета используется MNIST, содержащий изображения чисел от 0 до 9.\n",
    "2. Генерируется ряд, состоящий из 10 случайным образом выбранных чисел.\n",
    "3. Необходимо создать модель, предсказывающую 11-й член ряда a<sub>11</sub> = a<sub>1</sub> + a<sub>2</sub>."
   ]
  },
  {
   "cell_type": "markdown",
   "metadata": {},
   "source": [
    "## Решение"
   ]
  },
  {
   "cell_type": "markdown",
   "metadata": {},
   "source": [
    "### Импорт модулей"
   ]
  },
  {
   "cell_type": "code",
   "execution_count": 104,
   "metadata": {},
   "outputs": [],
   "source": [
    "import pandas as pd\n",
    "import numpy as np\n",
    "from keras.models import load_model\n",
    "from matplotlib import pyplot as plt\n",
    "from datagenerators import DataGeneratorRegression, DataGeneratorClassification"
   ]
  },
  {
   "cell_type": "markdown",
   "metadata": {},
   "source": [
    "### Вспомогательные функции"
   ]
  },
  {
   "cell_type": "markdown",
   "metadata": {},
   "source": [
    "Функция, выполняющая декодирование меток из One-hot encoding в массив ответов"
   ]
  },
  {
   "cell_type": "code",
   "execution_count": 77,
   "metadata": {},
   "outputs": [],
   "source": [
    "def decode_preds(*args):\n",
    "    \"\"\"\n",
    "    Декодирует метки из формата one-hot encodint в\n",
    "    массив int. Можно передавать несколько аргументов\n",
    "    для декодирования.\n",
    "    \"\"\"\n",
    "    answers = []\n",
    "    for answ_arr in args:\n",
    "        answers.append(np.argmax(answ_arr, axis=1))    \n",
    "    return tuple(answers) if len(answers)>1 else answers[0]    "
   ]
  },
  {
   "cell_type": "markdown",
   "metadata": {},
   "source": [
    "Функция для вывода изображений"
   ]
  },
  {
   "cell_type": "code",
   "execution_count": 78,
   "metadata": {},
   "outputs": [],
   "source": [
    "def plot_batch(batch, num=0, plot_full=False):\n",
    "    \"\"\"\n",
    "    Выводит изображения из переданного батча.\n",
    "    Args:\n",
    "        batch (np.array): батч изображений;\n",
    "        num (int): номер последовательности из батча;\n",
    "        plot_full (bool): Если True, выводит всю последовательность\n",
    "            изображений. Если False - только первые два, на основе\n",
    "            которых считается ответ.\n",
    "    \"\"\"\n",
    "    if plot_full:\n",
    "        fig=plt.figure(figsize=(16, 6))\n",
    "        columns = 5\n",
    "        rows = 2\n",
    "        for i in range(1, columns*rows+1):\n",
    "            img = batch[num][i-1]\n",
    "            img = img.reshape(img.shape[0], img.shape[1])\n",
    "            fig.add_subplot(rows, columns, i)\n",
    "            plt.imshow(img, cmap='gray')\n",
    "    else:\n",
    "        fig=plt.figure(figsize=(10, 6))\n",
    "        columns = 2\n",
    "        rows = 1\n",
    "        for i in range(1, columns*rows+1):\n",
    "            img = batch[num][i-1]\n",
    "            img = img.reshape(img.shape[0], img.shape[1])\n",
    "            fig.add_subplot(rows, columns, i)\n",
    "            plt.imshow(img, cmap='gray')            \n",
    "    plt.show()"
   ]
  },
  {
   "cell_type": "markdown",
   "metadata": {},
   "source": [
    "### Создание модели\n",
    "Для выполнения задания была реализована модель с использованием слоев Convolutional LSTM. Данные слои аналогичны слоям LSTM, но входные и рекуррентные преобразования сверточные. (https://arxiv.org/abs/1506.04214v1)\n",
    "\n",
    "Было реализовано две модели: одна выполняет классификацию, другая — регрессию.\n",
    "\n",
    "Реализация модели, выполняющей классификацию, приведена в <i>model_classification.py</i>.\n",
    "\n",
    "Реализация модели, выполняющей регрессию, приведена в <i>model_regression.py</i>.\n",
    "\n",
    "Веса обученных моделей находятся в директории <i>models</i>."
   ]
  },
  {
   "cell_type": "markdown",
   "metadata": {},
   "source": [
    "### Проверка точности моделей"
   ]
  },
  {
   "cell_type": "markdown",
   "metadata": {},
   "source": [
    "Параметры моделей"
   ]
  },
  {
   "cell_type": "code",
   "execution_count": 100,
   "metadata": {},
   "outputs": [],
   "source": [
    "h = 28 # высота изображений\n",
    "w = 28 # ширина изображений\n",
    "c = 1 # количество каналов\n",
    "seq_len = 10 # длина последовательности изображений\n",
    "input_shape = (seq_len, h, w, c)\n",
    "bs = 32 # batch size"
   ]
  },
  {
   "cell_type": "markdown",
   "metadata": {},
   "source": [
    "#### Регрессия"
   ]
  },
  {
   "cell_type": "code",
   "execution_count": 101,
   "metadata": {
    "scrolled": true
   },
   "outputs": [
    {
     "name": "stdout",
     "output_type": "stream",
     "text": [
      "Model: \"sequential_1\"\n",
      "_________________________________________________________________\n",
      "Layer (type)                 Output Shape              Param #   \n",
      "=================================================================\n",
      "conv_lst_m2d_1 (ConvLSTM2D)  (None, 10, 28, 28, 16)    9856      \n",
      "_________________________________________________________________\n",
      "conv_lst_m2d_2 (ConvLSTM2D)  (None, 10, 28, 28, 32)    55424     \n",
      "_________________________________________________________________\n",
      "conv_lst_m2d_3 (ConvLSTM2D)  (None, 10, 28, 28, 64)    221440    \n",
      "_________________________________________________________________\n",
      "flatten_1 (Flatten)          (None, 501760)            0         \n",
      "_________________________________________________________________\n",
      "dropout_1 (Dropout)          (None, 501760)            0         \n",
      "_________________________________________________________________\n",
      "dense_1 (Dense)              (None, 1)                 501761    \n",
      "=================================================================\n",
      "Total params: 788,481\n",
      "Trainable params: 788,481\n",
      "Non-trainable params: 0\n",
      "_________________________________________________________________\n"
     ]
    }
   ],
   "source": [
    "model = load_model(\"models/model_regression.h5\")\n",
    "model.summary()"
   ]
  },
  {
   "cell_type": "markdown",
   "metadata": {},
   "source": [
    "Подготовка данных. Реализация генераторов находится в <i>datagenerators.py</i>."
   ]
  },
  {
   "cell_type": "code",
   "execution_count": 105,
   "metadata": {},
   "outputs": [],
   "source": [
    "test_df = pd.read_csv(\"mnist_data/mnist_test.csv\")\n",
    "test_data = DataGeneratorRegression(test_df, batch_size=bs,\n",
    "                                    dim=input_shape)"
   ]
  },
  {
   "cell_type": "code",
   "execution_count": 107,
   "metadata": {
    "scrolled": true
   },
   "outputs": [
    {
     "name": "stdout",
     "output_type": "stream",
     "text": [
      "Accuracy on test data: 0.3649\n"
     ]
    }
   ],
   "source": [
    "_, accuracy = model.evaluate(test_data, verbose=0)\n",
    "print('Accuracy on test data: {:.4f}'.format(accuracy))"
   ]
  },
  {
   "cell_type": "markdown",
   "metadata": {},
   "source": [
    "#### Классификация"
   ]
  },
  {
   "cell_type": "markdown",
   "metadata": {},
   "source": [
    "Для классификации выполняется разделение на 19 классов: от 0 включительно (0+0) до 18 (9+9)."
   ]
  },
  {
   "cell_type": "code",
   "execution_count": 109,
   "metadata": {},
   "outputs": [
    {
     "name": "stdout",
     "output_type": "stream",
     "text": [
      "Model: \"sequential_1\"\n",
      "_________________________________________________________________\n",
      "Layer (type)                 Output Shape              Param #   \n",
      "=================================================================\n",
      "conv_lst_m2d_1 (ConvLSTM2D)  (None, 10, 28, 28, 16)    9856      \n",
      "_________________________________________________________________\n",
      "conv_lst_m2d_2 (ConvLSTM2D)  (None, 10, 28, 28, 32)    55424     \n",
      "_________________________________________________________________\n",
      "conv_lst_m2d_3 (ConvLSTM2D)  (None, 10, 28, 28, 64)    221440    \n",
      "_________________________________________________________________\n",
      "flatten_1 (Flatten)          (None, 501760)            0         \n",
      "_________________________________________________________________\n",
      "dropout_1 (Dropout)          (None, 501760)            0         \n",
      "_________________________________________________________________\n",
      "dense_1 (Dense)              (None, 19)                9533459   \n",
      "=================================================================\n",
      "Total params: 9,820,179\n",
      "Trainable params: 9,820,179\n",
      "Non-trainable params: 0\n",
      "_________________________________________________________________\n"
     ]
    }
   ],
   "source": [
    "model = load_model(\"models/model_classification.h5\")\n",
    "model.summary()"
   ]
  },
  {
   "cell_type": "code",
   "execution_count": 110,
   "metadata": {},
   "outputs": [],
   "source": [
    "test_df = pd.read_csv(\"mnist_data/mnist_test.csv\")\n",
    "test_data = DataGeneratorClassification(test_df, batch_size=bs,\n",
    "                                        dim=input_shape)"
   ]
  },
  {
   "cell_type": "code",
   "execution_count": 111,
   "metadata": {},
   "outputs": [
    {
     "name": "stdout",
     "output_type": "stream",
     "text": [
      "Accuracy on test data: 0.9153\n"
     ]
    }
   ],
   "source": [
    "_, accuracy = model.evaluate(test_data, verbose=0)\n",
    "print('Accuracy on test data: {:.4f}'.format(accuracy))"
   ]
  },
  {
   "cell_type": "markdown",
   "metadata": {},
   "source": [
    "### Итог"
   ]
  },
  {
   "cell_type": "markdown",
   "metadata": {},
   "source": [
    "Как видно, при одинаковой архитектуре модель с классификацие достигает гораздо большей точности, однако параметров у данной модели в 10 раз больше."
   ]
  },
  {
   "cell_type": "markdown",
   "metadata": {},
   "source": [
    "### Визуализация. Проверка работоспособности модели на примерах."
   ]
  },
  {
   "cell_type": "markdown",
   "metadata": {},
   "source": [
    "Получим батч данных из генератора"
   ]
  },
  {
   "cell_type": "code",
   "execution_count": 114,
   "metadata": {},
   "outputs": [],
   "source": [
    "for X, y in test_data:\n",
    "    break"
   ]
  },
  {
   "cell_type": "markdown",
   "metadata": {},
   "source": [
    "Получим предсказания модели и выполним декодирование меток"
   ]
  },
  {
   "cell_type": "code",
   "execution_count": 116,
   "metadata": {},
   "outputs": [],
   "source": [
    "y_pred = model.predict(X)\n",
    "y, y_pred = decode_preds(y, y_pred)"
   ]
  },
  {
   "cell_type": "markdown",
   "metadata": {},
   "source": [
    "Проверка работоспособности"
   ]
  },
  {
   "cell_type": "code",
   "execution_count": 117,
   "metadata": {
    "scrolled": false
   },
   "outputs": [
    {
     "data": {
      "image/png": "[encoded data removed]",
      "text/plain": [
       "<Figure size 1152x432 with 10 Axes>"
      ]
     },
     "metadata": {
      "needs_background": "light"
     },
     "output_type": "display_data"
    },
    {
     "name": "stdout",
     "output_type": "stream",
     "text": [
      "Ground truth: 11, predicted: 11\n"
     ]
    }
   ],
   "source": [
    "num_in_batch = 0 # Номер последовательности в батче\n",
    "plot_batch(X, num=num_in_batch, plot_full=True)\n",
    "print(\"Ground truth: {}, predicted: {}\".format(y[num_in_batch],\n",
    "                                               y_pred[num_in_batch]))"
   ]
  },
  {
   "cell_type": "code",
   "execution_count": 118,
   "metadata": {},
   "outputs": [
    {
     "data": {
      "image/png": "[encoded data removed]",
      "text/plain": [
       "<Figure size 1152x432 with 10 Axes>"
      ]
     },
     "metadata": {
      "needs_background": "light"
     },
     "output_type": "display_data"
    },
    {
     "name": "stdout",
     "output_type": "stream",
     "text": [
      "Ground truth: 4, predicted: 4\n"
     ]
    }
   ],
   "source": [
    "num_in_batch = 2 # Номер последовательности в батче\n",
    "plot_batch(X, num=num_in_batch, plot_full=True)\n",
    "print(\"Ground truth: {}, predicted: {}\".format(y[num_in_batch],\n",
    "                                               y_pred[num_in_batch]))"
   ]
  },
  {
   "cell_type": "code",
   "execution_count": 119,
   "metadata": {
    "scrolled": false
   },
   "outputs": [
    {
     "data": {
      "image/png": "[encoded data removed]",
      "text/plain": [
       "<Figure size 720x432 with 2 Axes>"
      ]
     },
     "metadata": {
      "needs_background": "light"
     },
     "output_type": "display_data"
    },
    {
     "name": "stdout",
     "output_type": "stream",
     "text": [
      "Ground truth: 4, predicted: 4\n",
      "\n",
      "==========================================================================\n"
     ]
    },
    {
     "data": {
      "image/png": "[encoded data removed]",
      "text/plain": [
       "<Figure size 720x432 with 2 Axes>"
      ]
     },
     "metadata": {
      "needs_background": "light"
     },
     "output_type": "display_data"
    },
    {
     "name": "stdout",
     "output_type": "stream",
     "text": [
      "Ground truth: 1, predicted: 1\n",
      "\n",
      "==========================================================================\n"
     ]
    },
    {
     "data": {
      "image/png": "[encoded data removed]",
      "text/plain": [
       "<Figure size 720x432 with 2 Axes>"
      ]
     },
     "metadata": {
      "needs_background": "light"
     },
     "output_type": "display_data"
    },
    {
     "name": "stdout",
     "output_type": "stream",
     "text": [
      "Ground truth: 8, predicted: 8\n",
      "\n",
      "==========================================================================\n"
     ]
    },
    {
     "data": {
      "image/png": "[encoded data removed]",
      "text/plain": [
       "<Figure size 720x432 with 2 Axes>"
      ]
     },
     "metadata": {
      "needs_background": "light"
     },
     "output_type": "display_data"
    },
    {
     "name": "stdout",
     "output_type": "stream",
     "text": [
      "Ground truth: 11, predicted: 11\n",
      "\n",
      "==========================================================================\n"
     ]
    },
    {
     "data": {
      "image/png": "[encoded data removed]",
      "text/plain": [
       "<Figure size 720x432 with 2 Axes>"
      ]
     },
     "metadata": {
      "needs_background": "light"
     },
     "output_type": "display_data"
    },
    {
     "name": "stdout",
     "output_type": "stream",
     "text": [
      "Ground truth: 15, predicted: 15\n",
      "\n",
      "==========================================================================\n"
     ]
    },
    {
     "data": {
      "image/png": "[encoded data removed]",
      "text/plain": [
       "<Figure size 720x432 with 2 Axes>"
      ]
     },
     "metadata": {
      "needs_background": "light"
     },
     "output_type": "display_data"
    },
    {
     "name": "stdout",
     "output_type": "stream",
     "text": [
      "Ground truth: 2, predicted: 2\n",
      "\n",
      "==========================================================================\n"
     ]
    }
   ],
   "source": [
    "for i in range(2, 8):\n",
    "    plot_batch(X, num=i, plot_full=False)\n",
    "    print(\"Ground truth: {}, predicted: {}\\n\"\n",
    "          .format(y[i], y_pred[i]))\n",
    "    print('='*74)"
   ]
  }
 ],
 "metadata": {
  "kernelspec": {
   "display_name": "Python 3",
   "language": "python",
   "name": "python3"
  },
  "language_info": {
   "codemirror_mode": {
    "name": "ipython",
    "version": 3
   },
   "file_extension": ".py",
   "mimetype": "text/x-python",
   "name": "python",
   "nbconvert_exporter": "python",
   "pygments_lexer": "ipython3",
   "version": "3.6.7"
  }
 },
 "nbformat": 4,
 "nbformat_minor": 2
}
